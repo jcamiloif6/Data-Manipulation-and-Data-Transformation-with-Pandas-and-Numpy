{
  "cells": [
    {
      "cell_type": "code",
      "execution_count": null,
      "metadata": {
        "id": "trhMpuPmKpe9"
      },
      "outputs": [
        {
          "ename": "",
          "evalue": "",
          "output_type": "error",
          "traceback": [
            "\u001b[1;31mRunning cells with '/home/igua/anaconda3/envs/ambientePy/envs/ambientePy/bin/python' requires the ipykernel package.\n",
            "\u001b[1;31mRun the following command to install 'ipykernel' into the Python environment. \n",
            "\u001b[1;31mCommand: 'conda install -p /home/igua/anaconda3/envs/ambientePy/envs/ambientePy ipykernel --update-deps --force-reinstall'"
          ]
        }
      ],
      "source": [
        "import numpy as np"
      ]
    },
    {
      "cell_type": "code",
      "execution_count": null,
      "metadata": {
        "colab": {
          "base_uri": "https://localhost:8080/"
        },
        "id": "8cXaquu6L9OA",
        "outputId": "806b9ee2-94a0-477b-fe42-bf276125d9cf"
      },
      "outputs": [
        {
          "ename": "",
          "evalue": "",
          "output_type": "error",
          "traceback": [
            "\u001b[1;31mRunning cells with '/home/igua/anaconda3/envs/ambientePy/envs/ambientePy/bin/python' requires the ipykernel package.\n",
            "\u001b[1;31mRun the following command to install 'ipykernel' into the Python environment. \n",
            "\u001b[1;31mCommand: 'conda install -p /home/igua/anaconda3/envs/ambientePy/envs/ambientePy ipykernel --update-deps --force-reinstall'"
          ]
        }
      ],
      "source": [
        "arr = np.array([1,2,3,4,])\n",
        "arr.dtype"
      ]
    },
    {
      "cell_type": "code",
      "execution_count": null,
      "metadata": {
        "colab": {
          "base_uri": "https://localhost:8080/"
        },
        "id": "LauLrxbRNLsB",
        "outputId": "4444fce8-de07-4b8b-9185-f18eb3715c09"
      },
      "outputs": [
        {
          "ename": "",
          "evalue": "",
          "output_type": "error",
          "traceback": [
            "\u001b[1;31mRunning cells with '/home/igua/anaconda3/envs/ambientePy/envs/ambientePy/bin/python' requires the ipykernel package.\n",
            "\u001b[1;31mRun the following command to install 'ipykernel' into the Python environment. \n",
            "\u001b[1;31mCommand: 'conda install -p /home/igua/anaconda3/envs/ambientePy/envs/ambientePy ipykernel --update-deps --force-reinstall'"
          ]
        }
      ],
      "source": [
        "arr = np.array([1,2,3,4], dtype = 'float64')\n",
        "arr.dtype"
      ]
    },
    {
      "cell_type": "code",
      "execution_count": null,
      "metadata": {
        "colab": {
          "base_uri": "https://localhost:8080/"
        },
        "id": "oHWpMr2MNXtA",
        "outputId": "5184a9bc-b194-4430-d8b2-7dedd886858f"
      },
      "outputs": [
        {
          "ename": "",
          "evalue": "",
          "output_type": "error",
          "traceback": [
            "\u001b[1;31mRunning cells with '/home/igua/anaconda3/envs/ambientePy/envs/ambientePy/bin/python' requires the ipykernel package.\n",
            "\u001b[1;31mRun the following command to install 'ipykernel' into the Python environment. \n",
            "\u001b[1;31mCommand: 'conda install -p /home/igua/anaconda3/envs/ambientePy/envs/ambientePy ipykernel --update-deps --force-reinstall'"
          ]
        }
      ],
      "source": [
        "arr"
      ]
    },
    {
      "cell_type": "code",
      "execution_count": null,
      "metadata": {
        "colab": {
          "base_uri": "https://localhost:8080/"
        },
        "id": "bnc2PQqEO8C3",
        "outputId": "37fafd45-635a-48ad-c684-797608871bd2"
      },
      "outputs": [
        {
          "ename": "",
          "evalue": "",
          "output_type": "error",
          "traceback": [
            "\u001b[1;31mRunning cells with '/home/igua/anaconda3/envs/ambientePy/envs/ambientePy/bin/python' requires the ipykernel package.\n",
            "\u001b[1;31mRun the following command to install 'ipykernel' into the Python environment. \n",
            "\u001b[1;31mCommand: 'conda install -p /home/igua/anaconda3/envs/ambientePy/envs/ambientePy ipykernel --update-deps --force-reinstall'"
          ]
        }
      ],
      "source": [
        "arr = np.array([0,1,2,3,4,])\n",
        "arr = arr.astype(np.string_)\n",
        "arr"
      ]
    },
    {
      "cell_type": "code",
      "execution_count": null,
      "metadata": {
        "colab": {
          "base_uri": "https://localhost:8080/"
        },
        "id": "byWUTYylW5X1",
        "outputId": "5d12c28f-8ebc-4ee5-fe4f-a2cb1d36e761"
      },
      "outputs": [
        {
          "ename": "",
          "evalue": "",
          "output_type": "error",
          "traceback": [
            "\u001b[1;31mRunning cells with '/home/igua/anaconda3/envs/ambientePy/envs/ambientePy/bin/python' requires the ipykernel package.\n",
            "\u001b[1;31mRun the following command to install 'ipykernel' into the Python environment. \n",
            "\u001b[1;31mCommand: 'conda install -p /home/igua/anaconda3/envs/ambientePy/envs/ambientePy ipykernel --update-deps --force-reinstall'"
          ]
        }
      ],
      "source": [
        "arr = np.array(['0','1','2','3','4',])\n",
        "arr = arr.astype(np.int64)\n",
        "arr"
      ]
    },
    {
      "cell_type": "code",
      "execution_count": null,
      "metadata": {
        "colab": {
          "base_uri": "https://localhost:8080/"
        },
        "id": "Vb61pwzwYd9x",
        "outputId": "2629247e-892a-4475-ec77-fdd3fc7f2dd6"
      },
      "outputs": [
        {
          "ename": "",
          "evalue": "",
          "output_type": "error",
          "traceback": [
            "\u001b[1;31mRunning cells with '/home/igua/anaconda3/envs/ambientePy/envs/ambientePy/bin/python' requires the ipykernel package.\n",
            "\u001b[1;31mRun the following command to install 'ipykernel' into the Python environment. \n",
            "\u001b[1;31mCommand: 'conda install -p /home/igua/anaconda3/envs/ambientePy/envs/ambientePy ipykernel --update-deps --force-reinstall'"
          ]
        }
      ],
      "source": [
        "arr = np.array([342525452,1,4355425323,309567654,])\n",
        "arr = arr.astype(np.longlong)\n",
        "arr"
      ]
    }
  ],
  "metadata": {
    "colab": {
      "provenance": []
    },
    "kernelspec": {
      "display_name": "Python 3",
      "name": "python3"
    },
    "language_info": {
      "name": "python",
      "version": "3.12.0"
    }
  },
  "nbformat": 4,
  "nbformat_minor": 0
}
