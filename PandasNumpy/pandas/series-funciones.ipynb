{
 "cells": [
  {
   "cell_type": "code",
   "execution_count": 5,
   "id": "a31fb5c9",
   "metadata": {},
   "outputs": [],
   "source": [
    "import pandas as pd"
   ]
  },
  {
   "cell_type": "code",
   "execution_count": 2,
   "id": "4c10efcd",
   "metadata": {},
   "outputs": [],
   "source": [
    "numeros = pd.Series([1,2,3,4,5,6,7,8,9])"
   ]
  },
  {
   "cell_type": "code",
   "execution_count": 3,
   "id": "5dcf5e44",
   "metadata": {},
   "outputs": [
    {
     "data": {
      "text/plain": [
       "45"
      ]
     },
     "execution_count": 3,
     "metadata": {},
     "output_type": "execute_result"
    }
   ],
   "source": [
    "numeros.sum()"
   ]
  },
  {
   "cell_type": "code",
   "execution_count": 4,
   "id": "7587e231",
   "metadata": {},
   "outputs": [
    {
     "data": {
      "text/plain": [
       "9"
      ]
     },
     "execution_count": 4,
     "metadata": {},
     "output_type": "execute_result"
    }
   ],
   "source": [
    "numeros.max()"
   ]
  },
  {
   "cell_type": "code",
   "execution_count": 5,
   "id": "162219e4",
   "metadata": {},
   "outputs": [
    {
     "data": {
      "text/plain": [
       "1"
      ]
     },
     "execution_count": 5,
     "metadata": {},
     "output_type": "execute_result"
    }
   ],
   "source": [
    "numeros.min()"
   ]
  },
  {
   "cell_type": "code",
   "execution_count": 6,
   "id": "8fc14f56",
   "metadata": {},
   "outputs": [
    {
     "data": {
      "text/plain": [
       "2.7386127875258306"
      ]
     },
     "execution_count": 6,
     "metadata": {},
     "output_type": "execute_result"
    }
   ],
   "source": [
    "numeros.std()"
   ]
  },
  {
   "cell_type": "code",
   "execution_count": 25,
   "id": "3589b18f",
   "metadata": {},
   "outputs": [],
   "source": [
    "serie = pd.Series({'Matematicas':8, 'Economia':6, 'Programacion': 10, 'Fisica': 5})"
   ]
  },
  {
   "cell_type": "code",
   "execution_count": 26,
   "id": "aa481845",
   "metadata": {},
   "outputs": [
    {
     "name": "stdout",
     "output_type": "stream",
     "text": [
      "Matematicas      8\n",
      "Programacion    10\n",
      "dtype: int64\n"
     ]
    }
   ],
   "source": [
    "print(serie[serie > 6])"
   ]
  },
  {
   "cell_type": "code",
   "execution_count": 27,
   "id": "417b6d8b",
   "metadata": {},
   "outputs": [
    {
     "name": "stdout",
     "output_type": "stream",
     "text": [
      "Fisica           5\n",
      "Economia         6\n",
      "Matematicas      8\n",
      "Programacion    10\n",
      "dtype: int64\n"
     ]
    }
   ],
   "source": [
    "print(serie.sort_values())"
   ]
  },
  {
   "cell_type": "code",
   "execution_count": 28,
   "id": "1acc7fb5",
   "metadata": {},
   "outputs": [
    {
     "data": {
      "text/plain": [
       "Economia         6\n",
       "Fisica           5\n",
       "Matematicas      8\n",
       "Programacion    10\n",
       "dtype: int64"
      ]
     },
     "execution_count": 28,
     "metadata": {},
     "output_type": "execute_result"
    }
   ],
   "source": [
    "serie.sort_index(ascending=True)"
   ]
  },
  {
   "cell_type": "code",
   "execution_count": 8,
   "id": "8fc8e498",
   "metadata": {},
   "outputs": [],
   "source": [
    "data = 5"
   ]
  },
  {
   "cell_type": "code",
   "execution_count": 7,
   "id": "293ade3f",
   "metadata": {},
   "outputs": [],
   "source": [
    "serie2 = pd.Series(data,index=[0,1,2,3,4,5,])"
   ]
  },
  {
   "cell_type": "code",
   "execution_count": 8,
   "id": "410832ed",
   "metadata": {},
   "outputs": [
    {
     "name": "stdout",
     "output_type": "stream",
     "text": [
      "0    5\n",
      "1    5\n",
      "2    5\n",
      "3    5\n",
      "4    5\n",
      "5    5\n",
      "dtype: int64\n"
     ]
    }
   ],
   "source": [
    "print(serie2)"
   ]
  },
  {
   "cell_type": "code",
   "execution_count": 1,
   "id": "6ed2f417",
   "metadata": {},
   "outputs": [],
   "source": [
    "data_list = ['Messi', 'Cristiano Ronaldo', 'Benzema']"
   ]
  },
  {
   "cell_type": "code",
   "execution_count": 2,
   "id": "550f9c56",
   "metadata": {},
   "outputs": [],
   "source": [
    "indices = ['PSG', 'Manchester United', 'Real Madrid']"
   ]
  },
  {
   "cell_type": "code",
   "execution_count": 10,
   "id": "271e8f51",
   "metadata": {},
   "outputs": [],
   "source": [
    "futbol = pd.Series(index=indices, data=data_list)"
   ]
  },
  {
   "cell_type": "code",
   "execution_count": 11,
   "id": "ef8d595f",
   "metadata": {},
   "outputs": [
    {
     "name": "stdout",
     "output_type": "stream",
     "text": [
      "PSG                              Messi\n",
      "Manchester United    Cristiano Ronaldo\n",
      "Real Madrid                    Benzema\n",
      "dtype: object\n"
     ]
    }
   ],
   "source": [
    "print(futbol)"
   ]
  },
  {
   "cell_type": "code",
   "execution_count": 24,
   "id": "134dd884",
   "metadata": {},
   "outputs": [],
   "source": [
    "futbol2 = pd.Series(data=indices, index=['hola',1,2])"
   ]
  },
  {
   "cell_type": "code",
   "execution_count": 25,
   "id": "c4014dfe",
   "metadata": {},
   "outputs": [
    {
     "data": {
      "text/plain": [
       "hola                  PSG\n",
       "1       Manchester United\n",
       "2             Real Madrid\n",
       "dtype: object"
      ]
     },
     "execution_count": 25,
     "metadata": {},
     "output_type": "execute_result"
    }
   ],
   "source": [
    "futbol2"
   ]
  }
 ],
 "metadata": {
  "kernelspec": {
   "display_name": "Python 3 (ipykernel)",
   "language": "python",
   "name": "python3"
  },
  "language_info": {
   "codemirror_mode": {
    "name": "ipython",
    "version": 3
   },
   "file_extension": ".py",
   "mimetype": "text/x-python",
   "name": "python",
   "nbconvert_exporter": "python",
   "pygments_lexer": "ipython3",
   "version": "3.12.0"
  }
 },
 "nbformat": 4,
 "nbformat_minor": 5
}
